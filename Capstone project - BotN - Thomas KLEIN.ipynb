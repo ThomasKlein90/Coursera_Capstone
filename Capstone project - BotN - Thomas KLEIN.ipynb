{
 "cells": [
  {
   "cell_type": "markdown",
   "metadata": {},
   "source": [
    "# Capstone Project - Battle of the Neighborhoods - Rome Versus Paris\n",
    "### Thomas KLEIN"
   ]
  },
  {
   "cell_type": "markdown",
   "metadata": {},
   "source": [
    "In this notebook I will perform the final Capstone Project, named Battle of the Neighborhoods, for the Applied Data Science Capstone Coursera course. "
   ]
  },
  {
   "cell_type": "markdown",
   "metadata": {},
   "source": [
    "## Introduction"
   ]
  },
  {
   "cell_type": "markdown",
   "metadata": {},
   "source": [
    "Rome and Paris are two major capitals of important European countries, respectively France and Italy. Both capitals are known to be major tourist destinations worldwide as well places famous for their cuisine and gastronomy. As shown by the numbers below, they have a comparable size and population as well as are ranked 2nd and 3rd on worldatlas.com in cities attracting the highest number of tourists in Europe in 2017 (1st is London)."
   ]
  },
  {
   "cell_type": "markdown",
   "metadata": {},
   "source": [
    "|                                           | Rome          | Paris        | Source                                |\n",
    "| ------------------------------------------|:-------------:| :-----------:|---------------------------------------|\n",
    "| **Official population (city limits)**     | 2,857,321     | 2,140,526    |*(Wikipedia)*                          |\n",
    "| **Tourists (international arrivals 2017)**| 9.5 million   | 14.26 million|*(worldatlas.com)*                     |\n",
    "| **Number of restaurants**                 | 13,721 (2017) |44,896 (2017) |*(worldcitiescultureforum.com)*        |"
   ]
  },
  {
   "cell_type": "markdown",
   "metadata": {},
   "source": [
    "As a Frenchman and a foodie, I feel engaged in the existing rivalry between these two cities and decided to analyze and compare them further in order to explore how similar or different they are as well as conclude on which city has the most diverse restaurant scene and the best ratings on Foursquare.\n",
    "Although Foursquare ratings are only partial, subjective and dependent on many variables, we can consider that since Foursquare has an international user base and that both cities are visited by important numbers of tourists, the users and the ratings are comparable."
   ]
  },
  {
   "cell_type": "markdown",
   "metadata": {},
   "source": [
    "#### Target group"
   ]
  },
  {
   "cell_type": "markdown",
   "metadata": {},
   "source": [
    "While there are many different popular cuisines all over the world, the two main ones that often come back in comparison in discussions in western Europe are the French and the Italian ones regarding which one is the most popular. Foodies and gastronomy tourists from different countries would be interested in the results of a study comparing the ratings of both cities. \n",
    "For most also, Paris is considered as more multicultural than Rome would be. An outcome of the present study will be to verify which city has the most diverse food scene, which can also be of interest of both local inhabitants and international gastronomy tourists looking to decide on which city to visit."
   ]
  },
  {
   "cell_type": "markdown",
   "metadata": {},
   "source": [
    "#### Problem setting"
   ]
  },
  {
   "cell_type": "markdown",
   "metadata": {},
   "source": [
    "The objective of this study and this workbook will be to answer 3 questions:\n",
    "1. How similar are the neighborhoods of Paris and Rome and if they are dissimilar, what distinguishes them?\n",
    "2. Which of the two cities has the most diverse food scene?\n",
    "3. Which of the two cities has the best ratings (both in total and for their national cuisine)?  \n",
    "\n",
    "In the next section we will cover the data needed to answer these questions."
   ]
  },
  {
   "cell_type": "code",
   "execution_count": null,
   "metadata": {},
   "outputs": [],
   "source": []
  }
 ],
 "metadata": {
  "kernelspec": {
   "display_name": "Python",
   "language": "python",
   "name": "conda-env-python-py"
  },
  "language_info": {
   "codemirror_mode": {
    "name": "ipython",
    "version": 3
   },
   "file_extension": ".py",
   "mimetype": "text/x-python",
   "name": "python",
   "nbconvert_exporter": "python",
   "pygments_lexer": "ipython3",
   "version": "3.6.7"
  }
 },
 "nbformat": 4,
 "nbformat_minor": 4
}
