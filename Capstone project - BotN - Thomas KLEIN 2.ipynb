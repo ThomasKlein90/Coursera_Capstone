{
 "cells": [
  {
   "cell_type": "markdown",
   "metadata": {},
   "source": [
    "# Capstone Project - Battle of the Neighborhoods - Rome Versus Paris\n",
    "### Thomas KLEIN"
   ]
  },
  {
   "cell_type": "markdown",
   "metadata": {},
   "source": [
    "In this notebook I will perform the final Capstone Project, named Battle of the Neighborhoods, for the Applied Data Science Capstone Coursera course. "
   ]
  },
  {
   "cell_type": "markdown",
   "metadata": {},
   "source": [
    "## Introduction/Business Problem"
   ]
  },
  {
   "cell_type": "markdown",
   "metadata": {},
   "source": [
    "Rome and Paris are two major capitals of important European countries, respectively France and Italy. Both capitals are known to be major tourist destinations worldwide as well places famous for their cuisine and gastronomy. As shown by the numbers below, they have a comparable size and population as well as are ranked 2nd and 3rd on worldatlas.com in cities attracting the highest number of tourists in Europe in 2017 (1st is London)."
   ]
  },
  {
   "cell_type": "markdown",
   "metadata": {},
   "source": [
    "|                                           | Rome          | Paris        | Source                                |\n",
    "| ------------------------------------------|:-------------:| :-----------:|---------------------------------------|\n",
    "| **Official population (city limits)**     | 2,857,321     | 2,140,526    |*(Wikipedia)*                          |\n",
    "| **Tourists (international arrivals 2017)**| 9.5 million   | 14.26 million|*(worldatlas.com)*                     |\n",
    "| **Number of restaurants**                 | 13,721 (2017) |44,896 (2017) |*(worldcitiescultureforum.com)*        |"
   ]
  },
  {
   "cell_type": "markdown",
   "metadata": {},
   "source": [
    "As a Frenchman and a foodie, I feel engaged in the existing rivalry between these two cities and decided to analyze and compare them further in order to explore how similar or different they are as well as conclude on which city has the most diverse restaurant scene and the best ratings on Foursquare.\n",
    "Although Foursquare ratings are only partial, subjective and dependent on many variables, we can consider that since Foursquare has an international user base and that both cities are visited by important numbers of tourists, the users and the ratings are comparable."
   ]
  },
  {
   "cell_type": "markdown",
   "metadata": {},
   "source": [
    "#### Target group\n",
    "While there are many different popular cuisines all over the world, the two main ones that often come back in comparison in discussions in western Europe are the French and the Italian ones regarding which one is the most popular. Foodies and gastronomy tourists from different countries would be interested in the results of a study comparing the ratings of both cities. \n",
    "For most also, Paris is considered as more multicultural than Rome would be. An outcome of the present study will be to verify which city has the most diverse food scene, which can also be of interest of both local inhabitants and international gastronomy tourists looking to decide on which city to visit.\n",
    "\n",
    "#### Problem setting\n",
    "The objective of this study and this workbook will be to answer 3 questions:\n",
    "1. How similar are the neighborhoods of Paris and Rome and if they are dissimilar, what distinguishes them?\n",
    "2. Which of the two cities has the most diverse food scene?\n",
    "3. Which of the two cities has the best ratings (both in total and for their national cuisine)?  \n",
    "\n",
    "In the next section we will cover the data needed to answer these questions."
   ]
  },
  {
   "cell_type": "markdown",
   "metadata": {},
   "source": [
    "## Data"
   ]
  },
  {
   "cell_type": "markdown",
   "metadata": {},
   "source": [
    "In order to solve the problems set above, we will need different sources of data.\n",
    "\n",
    "##### A breakdown of the two cities into \"Neighborhoods\"\n",
    "The first type of data will be way to divide and separate the different areas in Rome and Paris in order to answer the first question which is to compare the neighborhoods of both cities and find similarities or differences. To do so the following lists and sources of information will be used:\n",
    "- [the Wikipedia page describing the 'Administrative subdivision of Rome' into 15 municipi](https://en.wikipedia.org/wiki/Administrative_subdivision_of_Rome)\n",
    "- [the Wikipedia page describing the 'Arrondissements of Paris' into 20 arrondissements](https://en.wikipedia.org/wiki/Arrondissements_of_Paris)\n",
    "\n",
    "##### GPS coordinates to be used with the Foursquare API and database\n",
    "The second type of data are GPS coordinates to be able to locate each neighborhood and search venues around using the Foursquare API. To do so we can use the geolocator package but in case we do not obtain correct information we can use the following websites:\n",
    "- [This website](https://www.coordinatesmarker.com/results/x5CIL-z14eDjgYvrFSXe) provides the GPS coordinates of the all 'municipi' of the city of Rome. A CSV file containing has been created and stored [here](https://github.com/ThomasKlein90/Coursera_Capstone/blob/master/coordinatesmarker.com_ROMA.csv).\n",
    "- [The same website](https://www.coordinatesmarker.com/results/YJtUk9HYiG8XQX0k28q9) had been used to get the coordinates of the different 'arrondissements' of Paris. A CSV file containing has been created and stored [here](https://github.com/ThomasKlein90/Coursera_Capstone/blob/master/coordinatesmarker.com_PARIS.csv).\n",
    "\n",
    "##### The Foursquare database - list of venues\n",
    "The third source of information and data is the Foursquare database and API which contains venues in both cities. Accessing the database using the GPS coordinates listed in the files mentioned above we can characterize the neighborhoods by obtaining the categories of the venues. Further exploring the venues and their categories we can isolate the types of restaurants and their numbers to answer the second question.\n",
    "\n",
    "##### The Foursquare database - restaurants ratings\n",
    "Finally, still using the Foursquare database and isolating the restaurants in both cities we can extract their ratings to be able to compare them between Rome and Paris."
   ]
  },
  {
   "cell_type": "code",
   "execution_count": null,
   "metadata": {},
   "outputs": [],
   "source": []
  }
 ],
 "metadata": {
  "kernelspec": {
   "display_name": "Python",
   "language": "python",
   "name": "conda-env-python-py"
  },
  "language_info": {
   "codemirror_mode": {
    "name": "ipython",
    "version": 3
   },
   "file_extension": ".py",
   "mimetype": "text/x-python",
   "name": "python",
   "nbconvert_exporter": "python",
   "pygments_lexer": "ipython3",
   "version": "3.6.7"
  }
 },
 "nbformat": 4,
 "nbformat_minor": 4
}
